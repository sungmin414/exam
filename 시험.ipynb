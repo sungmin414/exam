{
 "cells": [
  {
   "cell_type": "code",
   "execution_count": 1,
   "metadata": {},
   "outputs": [
    {
     "name": "stdout",
     "output_type": "stream",
     "text": [
      "-민아\n",
      "-혜리\n",
      "-유라\n",
      "-소진\n"
     ]
    }
   ],
   "source": [
    "##### 1. 다음 리스트를 사용해 아래와 같은 문자열을 만들어 `girlsday_info`변수에 할당한 후, 콘솔에 내용을 출력하시오. [5점]\n",
    "\n",
    "girlsday_info = '민아,혜리,유라,소진'.split(',')\n",
    "\n",
    "\n",
    "for name in girlsday_info:\n",
    "    print(f'-{name}')\n",
    "    \n",
    "    \n",
    "    \n"
   ]
  },
  {
   "cell_type": "code",
   "execution_count": 2,
   "metadata": {},
   "outputs": [
    {
     "name": "stdout",
     "output_type": "stream",
     "text": [
      "[0] RED : Apple\n",
      "[1] YELLOW : Banana\n",
      "[2] GREEN : Melon\n"
     ]
    }
   ],
   "source": [
    "### 2. `fruit_dict`객체를 사용해서 아래와 같은 결과값을 갖는 문자열을 만들어 `fruit_info`변수에 할당 한 후, 콘솔에 내용을 출력하시오. [10점]\n",
    "\n",
    "fruit_dict = {\n",
    "    'red': 'apple',\n",
    "    'yellow': 'banana',\n",
    "    'green': 'melon',\n",
    "}\n",
    "\n",
    "for index,fruit_info in enumerate(fruit_dict.items()):\n",
    "    print(f'[{index}] {fruit_info[0].upper()} : {fruit_info[1].capitalize()}')\n",
    "    "
   ]
  },
  {
   "cell_type": "code",
   "execution_count": 3,
   "metadata": {},
   "outputs": [],
   "source": [
    "\n",
    "### 3. list의 `copy()`메서드가 하는 일과, `copy()`를 사용하지 않았을 때 발생할 수 있는 오류에 대한 예제 코드를 작성하시오. [10점]\n",
    "\n",
    "# copy()함수는 얕은 복사를 지원한다\n",
    "\n"
   ]
  },
  {
   "cell_type": "code",
   "execution_count": null,
   "metadata": {},
   "outputs": [],
   "source": []
  },
  {
   "cell_type": "code",
   "execution_count": 4,
   "metadata": {},
   "outputs": [
    {
     "name": "stdout",
     "output_type": "stream",
     "text": [
      "[]\n",
      "[]\n",
      "[3]\n",
      "[3]\n",
      "[3]\n",
      "[3]\n",
      "[3, 7]\n",
      "[3, 7]\n",
      "[3, 7]\n",
      "[3, 7]\n",
      "[3, 7, 11]\n",
      "[3, 7, 11]\n",
      "[3, 7, 11]\n",
      "[3, 7, 11]\n",
      "[3, 7, 11, 15]\n",
      "[3, 7, 11, 15]\n",
      "[3, 7, 11, 15]\n",
      "[3, 7, 11, 15]\n",
      "[3, 7, 11, 15, 19]\n",
      "[3, 7, 11, 15, 19]\n",
      "[3, 7, 11, 15, 19]\n",
      "[3, 7, 11, 15, 19]\n",
      "[3, 7, 11, 15, 19, 23]\n",
      "[3, 7, 11, 15, 19, 23]\n",
      "[3, 7, 11, 15, 19, 23]\n",
      "[3, 7, 11, 15, 19, 23]\n",
      "[3, 7, 11, 15, 19, 23, 27]\n",
      "[3, 7, 11, 15, 19, 23, 27]\n",
      "[3, 7, 11, 15, 19, 23, 27]\n",
      "[3, 7, 11, 15, 19, 23, 27]\n"
     ]
    }
   ],
   "source": [
    "### 4. 1에서 30까지의 숫자 중, 3부터 시작해서 4번째마다의 숫자를 가지는 리스트를 생성하시오. [5점]\n",
    "result = []\n",
    "for a in range(1,31):\n",
    "    result.append(a)\n",
    "    print(result[2::4])\n",
    "    \n",
    "    "
   ]
  },
  {
   "cell_type": "code",
   "execution_count": 5,
   "metadata": {},
   "outputs": [
    {
     "ename": "SyntaxError",
     "evalue": "invalid syntax (<ipython-input-5-0f71899dd161>, line 4)",
     "output_type": "error",
     "traceback": [
      "\u001b[0;36m  File \u001b[0;32m\"<ipython-input-5-0f71899dd161>\"\u001b[0;36m, line \u001b[0;32m4\u001b[0m\n\u001b[0;31m    존재 하지 않는 키로 값을 가져오려할경우 get을 안쓰면 오류를 발생시키고 get을쓰면 None을 리턴하는 차이가있음\u001b[0m\n\u001b[0m        ^\u001b[0m\n\u001b[0;31mSyntaxError\u001b[0m\u001b[0;31m:\u001b[0m invalid syntax\n"
     ]
    }
   ],
   "source": [
    "\n",
    "### 5. dict형 객체인 `obj`가 있다고 할 때, `obj['key']`와 `obj.get('key')`의 차이를 서술하시오. [5점]\n",
    "\n",
    "존재 하지 않는 키로 값을 가져오려할경우 get을 안쓰면 오류를 발생시키고 get을쓰면 None을 리턴하는 차이가있음\n"
   ]
  },
  {
   "cell_type": "code",
   "execution_count": null,
   "metadata": {},
   "outputs": [],
   "source": [
    "### 6. 튜플 언패킹에 대해 서술하고, `pokemon_info` 객체를 순회할 때 튜플 언패킹을 사용하는 예제 코드를 작성하시오. [10점]\n",
    "\n",
    "# 묶여 있는 값을 풀어놓는 것\n",
    "\n",
    "pokemon_info = [\n",
    "    ('피카츄', '전기 타입'),\n",
    "    ('파이리', '불 타입'),\n",
    "    ('꼬부기', '물 타입'),\n",
    "    ('이상해씨', '풀 타입'),\n",
    "]\n",
    "print(pokemon_info[0])\n",
    "print(pokemon_info[1])\n",
    "print(pokemon_info[2])\n",
    "print(pokemon_info[3])\n",
    "\n",
    "for pkm_list in pokemon_info:\n",
    "    print(pkm_list[0],pkm_list[1])\n",
    "   "
   ]
  },
  {
   "cell_type": "code",
   "execution_count": null,
   "metadata": {},
   "outputs": [],
   "source": [
    "### 7. 함수에서 위치인자와 키워드인자의 차이점에 대해 서술하시오. [5점]\n",
    "\n",
    "# 위치 인자는 함수로 전다랗는 매개 인자를 순서대로 나열한것\n",
    "# 키워드 인자는 인자 이름과 인자에 할당할 값을 특정하는것\n"
   ]
  },
  {
   "cell_type": "code",
   "execution_count": null,
   "metadata": {},
   "outputs": [],
   "source": [
    "### 8. 클래스와 인스턴스의 다음 사항들에 대해 서술하시오.\n",
    "\n",
    "# - 클래스와 인스턴스의 차이점 [2점]\n",
    "\n",
    "# 클래스 속성이 클래스에 액세스하여 설정되면 모든 인스턴스의 값을 대체\n",
    "# 인스턴스에 액세스하여 클래스 변수를 설정하면 해당 인스턴스에 대한값만 대체\n",
    "\n",
    "\n",
    "# - 클래스의 생성자 함수 이름 [1점]\n",
    "# 메서드(method)\n",
    "\n",
    "# - 클래스의 생성자 함수가 호출되는 시점은? [2점]\n",
    "\n",
    "# 클래스 메서드는 클래스 속성에 대해 동작하는 메서드이다\n",
    "\n",
    "# - 인스턴스 메서드의 `self`매개변수의 의미 [4점]\n",
    "\n",
    "# 객체의 메서드를 정의할 때, 첫 번째 인수는 항상 self이다. \n",
    "# self에는 메서드를 호출하는 객체 자신이 자동으로 전달된다.\n",
    "# 이렇게 self가 자동으로 호출되는 이유는 클래스의 메서드를 사용할 \n",
    "# 때 어떤 객체가 해당 메서드를 사용하고 있는지 알 수 있도록 하기 위해서이다. \n",
    "# 또한 이렇게 하나의 메서드를 여러 객체가 공유할 수 있다."
   ]
  },
  {
   "cell_type": "code",
   "execution_count": null,
   "metadata": {},
   "outputs": [],
   "source": [
    "### 9. `property`를 정의하는 방법에 대해 서술하시오. [5점]\n",
    "\n",
    "\n",
    "# 외부에서 접근할 수 없는 private객체 속성을 지원한다. 이 경우, 객체에서는 해당 속성을 읽고 쓰기 위해 \n",
    "# getter, setter메서드를 사용해야 한다.\n",
    "\n",
    "# @property\n",
    "\n",
    "# @abc.getter\n",
    "\n",
    "# @abc.setter\n",
    "\n",
    "\n"
   ]
  },
  {
   "cell_type": "code",
   "execution_count": null,
   "metadata": {},
   "outputs": [],
   "source": [
    "### 10. 아래와 같은 `User`클래스가 있다. 이 클래스를 상속받은 `Student`클래스를 정의하고, 초기화 메서드에서 `name`과 함께`age`라는 매개변수를 추가로 사용해 인스턴스의 `age`속성을 추가로 정의하도록 한다. [10점]\n",
    "\n",
    "\n",
    "class User:\n",
    "    def __init__(self, name):\n",
    "        self.name = name\n",
    "        \n",
    "\n",
    "class Student(User):\n",
    "    def __init__(self, name, age):\n",
    "        super().__init__(name)\n",
    "        self.age = age\n",
    "        \n",
    "        "
   ]
  },
  {
   "cell_type": "code",
   "execution_count": 9,
   "metadata": {},
   "outputs": [
    {
     "name": "stdout",
     "output_type": "stream",
     "text": [
      "None\n"
     ]
    }
   ],
   "source": [
    "### 11. `url`주소로부터 아래 결과를 출력한다. [10점]\n",
    "import os\n",
    "import re\n",
    "from urllib import parse\n",
    "\n",
    "from bs4 import BeautifulSoup\n",
    "import requests\n",
    "\n",
    "url = 'http://www.leagueoflegends.co.kr/?m=news&cate=notice'\n",
    "\n",
    "file_path = 'data/lol_list.html'\n",
    "\n",
    "if os.path.exists(file_path):\n",
    "    f = open(file_path,'rt')\n",
    "    html = f.read()\n",
    "    f.close()\n",
    "else:\n",
    "    response = requests.get(url)\n",
    "    html = response.text\n",
    "    f = open(file_path,'wt')\n",
    "    f.write(html)\n",
    "    f.close()\n",
    "\n",
    "soup = BeautifulSoup(html,'lxml')\n",
    "\n",
    "table = soup.select_one('table.request-list')\n",
    "\n"
   ]
  },
  {
   "cell_type": "code",
   "execution_count": null,
   "metadata": {},
   "outputs": [],
   "source": []
  },
  {
   "cell_type": "code",
   "execution_count": null,
   "metadata": {},
   "outputs": [],
   "source": []
  },
  {
   "cell_type": "code",
   "execution_count": null,
   "metadata": {},
   "outputs": [],
   "source": []
  },
  {
   "cell_type": "code",
   "execution_count": null,
   "metadata": {},
   "outputs": [],
   "source": []
  },
  {
   "cell_type": "code",
   "execution_count": null,
   "metadata": {},
   "outputs": [],
   "source": []
  },
  {
   "cell_type": "code",
   "execution_count": null,
   "metadata": {},
   "outputs": [],
   "source": []
  }
 ],
 "metadata": {
  "kernelspec": {
   "display_name": "Python 3",
   "language": "python",
   "name": "python3"
  },
  "language_info": {
   "codemirror_mode": {
    "name": "ipython",
    "version": 3
   },
   "file_extension": ".py",
   "mimetype": "text/x-python",
   "name": "python",
   "nbconvert_exporter": "python",
   "pygments_lexer": "ipython3",
   "version": "3.6.5"
  }
 },
 "nbformat": 4,
 "nbformat_minor": 2
}
